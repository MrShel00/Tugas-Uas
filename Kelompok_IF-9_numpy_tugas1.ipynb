{
 "cells": [
  {
   "cell_type": "markdown",
   "metadata": {
    "id": "ly_NQeiLXveF"
   },
   "source": [
    "# Proyek Analisis Data: Air Quality DataSet\n",
    "- Kelompok : IF-9 Numpy\n",
    "- Anggota : </br>\n",
    "1. MENENTUKAN KUALITAS UDARA DALAM DATASET SETIAP TAHUNYA - 10122336 - M Taufik Iqbal\n",
    "2. Berapa rata-rata suhu pada daerah tersebut - 10122333 - Hisyam Rizqullah \n",
    "3. POLUSI UDARA PERTAHUN - 10122476 -  Farrel Muhammad A\n",
    "4. Bagaimana tingkat polutan udara, seperti PM2.5 dan SO2, berfluktuasi selama periode waktu tertentu di suatu wilayah - 10122343 indra permana\n",
    "5. Bagaimana tingkat ozon disetiap bulan pada tahun 2013 di wilayah ini? - 10122327- Danarusmia\n",
    "6. Berapa rata rata debit hujan Pertahunnya - 10122325 - Alka Sabil Khubaib\n",
    "\n",
    "\n",
    "\n"
   ]
  },
  {
   "cell_type": "markdown",
   "metadata": {
    "id": "paGgmrwWXveI"
   },
   "source": [
    "## Menentukan Pertanyaan Bisnis"
   ]
  },
  {
   "cell_type": "markdown",
   "metadata": {
    "id": "ev06_aZAXveJ"
   },
   "source": [
    "MENENTUKAN KUALITAS UDARA DALAM DATASET SETIAP TAHUNYA"
   ]
  },
  {
   "cell_type": "markdown",
   "metadata": {
    "id": "JH0gSvarXveJ"
   },
   "source": [
    "## Menyiapkan semua library yang dibutuhkan"
   ]
  },
  {
   "cell_type": "code",
   "execution_count": 19,
   "metadata": {
    "id": "KoP3WWMAXveJ"
   },
   "outputs": [],
   "source": [
    "#mengambil library yang dibutuhkan\n",
    "import pandas as pd\n",
    "import numpy as np\n",
    "import matplotlib.pyplot as plt\n",
    "import matplotlib.ticker as ticker"
   ]
  },
  {
   "cell_type": "markdown",
   "metadata": {
    "id": "P4UJ5Px4XveL"
   },
   "source": [
    "## Data Wrangling"
   ]
  },
  {
   "cell_type": "markdown",
   "metadata": {
    "id": "Hw2do0xGXveL"
   },
   "source": [
    "### Gathering Data"
   ]
  },
  {
   "cell_type": "code",
   "execution_count": 20,
   "metadata": {
    "id": "I6ZThY2mXveL",
    "outputId": "4096f5ee-9b08-491b-911e-719c286c8320"
   },
   "outputs": [
    {
     "data": {
      "text/html": [
       "<div>\n",
       "<style scoped>\n",
       "    .dataframe tbody tr th:only-of-type {\n",
       "        vertical-align: middle;\n",
       "    }\n",
       "\n",
       "    .dataframe tbody tr th {\n",
       "        vertical-align: top;\n",
       "    }\n",
       "\n",
       "    .dataframe thead th {\n",
       "        text-align: right;\n",
       "    }\n",
       "</style>\n",
       "<table border=\"1\" class=\"dataframe\">\n",
       "  <thead>\n",
       "    <tr style=\"text-align: right;\">\n",
       "      <th></th>\n",
       "      <th>No</th>\n",
       "      <th>year</th>\n",
       "      <th>month</th>\n",
       "      <th>day</th>\n",
       "      <th>hour</th>\n",
       "      <th>PM2.5</th>\n",
       "      <th>PM10</th>\n",
       "      <th>SO2</th>\n",
       "      <th>NO2</th>\n",
       "      <th>CO</th>\n",
       "      <th>O3</th>\n",
       "      <th>TEMP</th>\n",
       "      <th>PRES</th>\n",
       "      <th>DEWP</th>\n",
       "      <th>RAIN</th>\n",
       "      <th>wd</th>\n",
       "      <th>WSPM</th>\n",
       "      <th>station</th>\n",
       "    </tr>\n",
       "  </thead>\n",
       "  <tbody>\n",
       "    <tr>\n",
       "      <th>0</th>\n",
       "      <td>1</td>\n",
       "      <td>2013</td>\n",
       "      <td>3</td>\n",
       "      <td>1</td>\n",
       "      <td>0</td>\n",
       "      <td>3.0</td>\n",
       "      <td>6.0</td>\n",
       "      <td>13.0</td>\n",
       "      <td>7.0</td>\n",
       "      <td>300.0</td>\n",
       "      <td>85.0</td>\n",
       "      <td>-2.3</td>\n",
       "      <td>1020.8</td>\n",
       "      <td>-19.7</td>\n",
       "      <td>0.0</td>\n",
       "      <td>E</td>\n",
       "      <td>0.5</td>\n",
       "      <td>Changping</td>\n",
       "    </tr>\n",
       "    <tr>\n",
       "      <th>1</th>\n",
       "      <td>2</td>\n",
       "      <td>2013</td>\n",
       "      <td>3</td>\n",
       "      <td>1</td>\n",
       "      <td>1</td>\n",
       "      <td>3.0</td>\n",
       "      <td>3.0</td>\n",
       "      <td>6.0</td>\n",
       "      <td>6.0</td>\n",
       "      <td>300.0</td>\n",
       "      <td>85.0</td>\n",
       "      <td>-2.5</td>\n",
       "      <td>1021.3</td>\n",
       "      <td>-19.0</td>\n",
       "      <td>0.0</td>\n",
       "      <td>ENE</td>\n",
       "      <td>0.7</td>\n",
       "      <td>Changping</td>\n",
       "    </tr>\n",
       "    <tr>\n",
       "      <th>2</th>\n",
       "      <td>3</td>\n",
       "      <td>2013</td>\n",
       "      <td>3</td>\n",
       "      <td>1</td>\n",
       "      <td>2</td>\n",
       "      <td>3.0</td>\n",
       "      <td>3.0</td>\n",
       "      <td>22.0</td>\n",
       "      <td>13.0</td>\n",
       "      <td>400.0</td>\n",
       "      <td>74.0</td>\n",
       "      <td>-3.0</td>\n",
       "      <td>1021.3</td>\n",
       "      <td>-19.9</td>\n",
       "      <td>0.0</td>\n",
       "      <td>ENE</td>\n",
       "      <td>0.2</td>\n",
       "      <td>Changping</td>\n",
       "    </tr>\n",
       "    <tr>\n",
       "      <th>3</th>\n",
       "      <td>4</td>\n",
       "      <td>2013</td>\n",
       "      <td>3</td>\n",
       "      <td>1</td>\n",
       "      <td>3</td>\n",
       "      <td>3.0</td>\n",
       "      <td>6.0</td>\n",
       "      <td>12.0</td>\n",
       "      <td>8.0</td>\n",
       "      <td>300.0</td>\n",
       "      <td>81.0</td>\n",
       "      <td>-3.6</td>\n",
       "      <td>1021.8</td>\n",
       "      <td>-19.1</td>\n",
       "      <td>0.0</td>\n",
       "      <td>NNE</td>\n",
       "      <td>1.0</td>\n",
       "      <td>Changping</td>\n",
       "    </tr>\n",
       "    <tr>\n",
       "      <th>4</th>\n",
       "      <td>5</td>\n",
       "      <td>2013</td>\n",
       "      <td>3</td>\n",
       "      <td>1</td>\n",
       "      <td>4</td>\n",
       "      <td>3.0</td>\n",
       "      <td>3.0</td>\n",
       "      <td>14.0</td>\n",
       "      <td>8.0</td>\n",
       "      <td>300.0</td>\n",
       "      <td>81.0</td>\n",
       "      <td>-3.5</td>\n",
       "      <td>1022.3</td>\n",
       "      <td>-19.4</td>\n",
       "      <td>0.0</td>\n",
       "      <td>N</td>\n",
       "      <td>2.1</td>\n",
       "      <td>Changping</td>\n",
       "    </tr>\n",
       "    <tr>\n",
       "      <th>...</th>\n",
       "      <td>...</td>\n",
       "      <td>...</td>\n",
       "      <td>...</td>\n",
       "      <td>...</td>\n",
       "      <td>...</td>\n",
       "      <td>...</td>\n",
       "      <td>...</td>\n",
       "      <td>...</td>\n",
       "      <td>...</td>\n",
       "      <td>...</td>\n",
       "      <td>...</td>\n",
       "      <td>...</td>\n",
       "      <td>...</td>\n",
       "      <td>...</td>\n",
       "      <td>...</td>\n",
       "      <td>...</td>\n",
       "      <td>...</td>\n",
       "      <td>...</td>\n",
       "    </tr>\n",
       "    <tr>\n",
       "      <th>35059</th>\n",
       "      <td>35060</td>\n",
       "      <td>2017</td>\n",
       "      <td>2</td>\n",
       "      <td>28</td>\n",
       "      <td>19</td>\n",
       "      <td>28.0</td>\n",
       "      <td>47.0</td>\n",
       "      <td>4.0</td>\n",
       "      <td>14.0</td>\n",
       "      <td>300.0</td>\n",
       "      <td>NaN</td>\n",
       "      <td>11.7</td>\n",
       "      <td>1008.9</td>\n",
       "      <td>-13.3</td>\n",
       "      <td>0.0</td>\n",
       "      <td>NNE</td>\n",
       "      <td>1.3</td>\n",
       "      <td>Changping</td>\n",
       "    </tr>\n",
       "    <tr>\n",
       "      <th>35060</th>\n",
       "      <td>35061</td>\n",
       "      <td>2017</td>\n",
       "      <td>2</td>\n",
       "      <td>28</td>\n",
       "      <td>20</td>\n",
       "      <td>12.0</td>\n",
       "      <td>12.0</td>\n",
       "      <td>3.0</td>\n",
       "      <td>23.0</td>\n",
       "      <td>500.0</td>\n",
       "      <td>64.0</td>\n",
       "      <td>10.9</td>\n",
       "      <td>1009.0</td>\n",
       "      <td>-14.0</td>\n",
       "      <td>0.0</td>\n",
       "      <td>N</td>\n",
       "      <td>2.1</td>\n",
       "      <td>Changping</td>\n",
       "    </tr>\n",
       "    <tr>\n",
       "      <th>35061</th>\n",
       "      <td>35062</td>\n",
       "      <td>2017</td>\n",
       "      <td>2</td>\n",
       "      <td>28</td>\n",
       "      <td>21</td>\n",
       "      <td>7.0</td>\n",
       "      <td>23.0</td>\n",
       "      <td>5.0</td>\n",
       "      <td>17.0</td>\n",
       "      <td>500.0</td>\n",
       "      <td>68.0</td>\n",
       "      <td>9.5</td>\n",
       "      <td>1009.4</td>\n",
       "      <td>-13.0</td>\n",
       "      <td>0.0</td>\n",
       "      <td>N</td>\n",
       "      <td>1.5</td>\n",
       "      <td>Changping</td>\n",
       "    </tr>\n",
       "    <tr>\n",
       "      <th>35062</th>\n",
       "      <td>35063</td>\n",
       "      <td>2017</td>\n",
       "      <td>2</td>\n",
       "      <td>28</td>\n",
       "      <td>22</td>\n",
       "      <td>11.0</td>\n",
       "      <td>20.0</td>\n",
       "      <td>3.0</td>\n",
       "      <td>15.0</td>\n",
       "      <td>500.0</td>\n",
       "      <td>72.0</td>\n",
       "      <td>7.8</td>\n",
       "      <td>1009.6</td>\n",
       "      <td>-12.6</td>\n",
       "      <td>0.0</td>\n",
       "      <td>NW</td>\n",
       "      <td>1.4</td>\n",
       "      <td>Changping</td>\n",
       "    </tr>\n",
       "    <tr>\n",
       "      <th>35063</th>\n",
       "      <td>35064</td>\n",
       "      <td>2017</td>\n",
       "      <td>2</td>\n",
       "      <td>28</td>\n",
       "      <td>23</td>\n",
       "      <td>20.0</td>\n",
       "      <td>25.0</td>\n",
       "      <td>6.0</td>\n",
       "      <td>28.0</td>\n",
       "      <td>900.0</td>\n",
       "      <td>54.0</td>\n",
       "      <td>7.0</td>\n",
       "      <td>1009.4</td>\n",
       "      <td>-12.2</td>\n",
       "      <td>0.0</td>\n",
       "      <td>N</td>\n",
       "      <td>1.9</td>\n",
       "      <td>Changping</td>\n",
       "    </tr>\n",
       "  </tbody>\n",
       "</table>\n",
       "<p>35064 rows × 18 columns</p>\n",
       "</div>"
      ],
      "text/plain": [
       "          No  year  month  day  hour  PM2.5  PM10   SO2   NO2     CO    O3  \\\n",
       "0          1  2013      3    1     0    3.0   6.0  13.0   7.0  300.0  85.0   \n",
       "1          2  2013      3    1     1    3.0   3.0   6.0   6.0  300.0  85.0   \n",
       "2          3  2013      3    1     2    3.0   3.0  22.0  13.0  400.0  74.0   \n",
       "3          4  2013      3    1     3    3.0   6.0  12.0   8.0  300.0  81.0   \n",
       "4          5  2013      3    1     4    3.0   3.0  14.0   8.0  300.0  81.0   \n",
       "...      ...   ...    ...  ...   ...    ...   ...   ...   ...    ...   ...   \n",
       "35059  35060  2017      2   28    19   28.0  47.0   4.0  14.0  300.0   NaN   \n",
       "35060  35061  2017      2   28    20   12.0  12.0   3.0  23.0  500.0  64.0   \n",
       "35061  35062  2017      2   28    21    7.0  23.0   5.0  17.0  500.0  68.0   \n",
       "35062  35063  2017      2   28    22   11.0  20.0   3.0  15.0  500.0  72.0   \n",
       "35063  35064  2017      2   28    23   20.0  25.0   6.0  28.0  900.0  54.0   \n",
       "\n",
       "       TEMP    PRES  DEWP  RAIN   wd  WSPM    station  \n",
       "0      -2.3  1020.8 -19.7   0.0    E   0.5  Changping  \n",
       "1      -2.5  1021.3 -19.0   0.0  ENE   0.7  Changping  \n",
       "2      -3.0  1021.3 -19.9   0.0  ENE   0.2  Changping  \n",
       "3      -3.6  1021.8 -19.1   0.0  NNE   1.0  Changping  \n",
       "4      -3.5  1022.3 -19.4   0.0    N   2.1  Changping  \n",
       "...     ...     ...   ...   ...  ...   ...        ...  \n",
       "35059  11.7  1008.9 -13.3   0.0  NNE   1.3  Changping  \n",
       "35060  10.9  1009.0 -14.0   0.0    N   2.1  Changping  \n",
       "35061   9.5  1009.4 -13.0   0.0    N   1.5  Changping  \n",
       "35062   7.8  1009.6 -12.6   0.0   NW   1.4  Changping  \n",
       "35063   7.0  1009.4 -12.2   0.0    N   1.9  Changping  \n",
       "\n",
       "[35064 rows x 18 columns]"
      ]
     },
     "execution_count": 20,
     "metadata": {},
     "output_type": "execute_result"
    }
   ],
   "source": [
    "missing_value_format = ['N.A', 'na', 'n.a.','n/a','?','-']\n",
    "df_data_air = pd.read_csv('PRSA_Data_Changping_20130301-20170228.csv', na_values = missing_value_format)\n",
    "df_data_air"
   ]
  },
  {
   "cell_type": "markdown",
   "metadata": {
    "id": "C1vyzpDNXveM"
   },
   "source": [
    "### Assessing Data"
   ]
  },
  {
   "cell_type": "code",
   "execution_count": 21,
   "metadata": {
    "id": "HIPgMj_4XveM",
    "outputId": "89453a12-4823-4175-a097-83ea6e2c1df6"
   },
   "outputs": [
    {
     "data": {
      "text/plain": [
       "False"
      ]
     },
     "execution_count": 21,
     "metadata": {},
     "output_type": "execute_result"
    }
   ],
   "source": [
    "df_data_air.duplicated().values.any()"
   ]
  },
  {
   "cell_type": "code",
   "execution_count": 22,
   "metadata": {
    "id": "Dx2qrM3lXveN",
    "outputId": "9b28492b-e288-45ad-bf82-452a7729cdc2"
   },
   "outputs": [
    {
     "data": {
      "text/plain": [
       "0        False\n",
       "1        False\n",
       "2        False\n",
       "3        False\n",
       "4        False\n",
       "         ...  \n",
       "35059    False\n",
       "35060    False\n",
       "35061    False\n",
       "35062    False\n",
       "35063    False\n",
       "Length: 35064, dtype: bool"
      ]
     },
     "execution_count": 22,
     "metadata": {},
     "output_type": "execute_result"
    }
   ],
   "source": [
    "df_data_air.duplicated()"
   ]
  },
  {
   "cell_type": "code",
   "execution_count": 23,
   "metadata": {
    "id": "nIFH5-7iXveN",
    "outputId": "3955bf0b-6255-4d5c-e1a9-210360cadc00"
   },
   "outputs": [
    {
     "name": "stdout",
     "output_type": "stream",
     "text": [
      "No           int64\n",
      "year         int64\n",
      "month        int64\n",
      "day          int64\n",
      "hour         int64\n",
      "PM2.5      float64\n",
      "PM10       float64\n",
      "SO2        float64\n",
      "NO2        float64\n",
      "CO         float64\n",
      "O3         float64\n",
      "TEMP       float64\n",
      "PRES       float64\n",
      "DEWP       float64\n",
      "RAIN       float64\n",
      "wd          object\n",
      "WSPM       float64\n",
      "station     object\n",
      "dtype: object\n"
     ]
    }
   ],
   "source": [
    "print(df_data_air.dtypes)"
   ]
  },
  {
   "cell_type": "code",
   "execution_count": 24,
   "metadata": {
    "id": "mMC2TGBzXveN",
    "outputId": "843f25eb-0bfb-430a-f6de-c284f52f3299"
   },
   "outputs": [
    {
     "name": "stdout",
     "output_type": "stream",
     "text": [
      "No         35064\n",
      "year           5\n",
      "month         12\n",
      "day           31\n",
      "hour          24\n",
      "PM2.5        481\n",
      "PM10         562\n",
      "SO2          294\n",
      "NO2          459\n",
      "CO           115\n",
      "O3           886\n",
      "TEMP         998\n",
      "PRES         592\n",
      "DEWP         602\n",
      "RAIN         116\n",
      "wd            16\n",
      "WSPM          95\n",
      "station        1\n",
      "dtype: int64\n"
     ]
    }
   ],
   "source": [
    "print(df_data_air.nunique())\n"
   ]
  },
  {
   "cell_type": "code",
   "execution_count": 25,
   "metadata": {
    "id": "-kALUsO-XveO",
    "outputId": "d787b4ba-17ba-4358-f1f9-94350544c80a"
   },
   "outputs": [
    {
     "name": "stdout",
     "output_type": "stream",
     "text": [
      "<class 'pandas.core.frame.DataFrame'>\n",
      "RangeIndex: 35064 entries, 0 to 35063\n",
      "Data columns (total 18 columns):\n",
      " #   Column   Non-Null Count  Dtype  \n",
      "---  ------   --------------  -----  \n",
      " 0   No       35064 non-null  int64  \n",
      " 1   year     35064 non-null  int64  \n",
      " 2   month    35064 non-null  int64  \n",
      " 3   day      35064 non-null  int64  \n",
      " 4   hour     35064 non-null  int64  \n",
      " 5   PM2.5    34290 non-null  float64\n",
      " 6   PM10     34482 non-null  float64\n",
      " 7   SO2      34436 non-null  float64\n",
      " 8   NO2      34397 non-null  float64\n",
      " 9   CO       33543 non-null  float64\n",
      " 10  O3       34460 non-null  float64\n",
      " 11  TEMP     35011 non-null  float64\n",
      " 12  PRES     35014 non-null  float64\n",
      " 13  DEWP     35011 non-null  float64\n",
      " 14  RAIN     35013 non-null  float64\n",
      " 15  wd       34924 non-null  object \n",
      " 16  WSPM     35021 non-null  float64\n",
      " 17  station  35064 non-null  object \n",
      "dtypes: float64(11), int64(5), object(2)\n",
      "memory usage: 4.8+ MB\n"
     ]
    }
   ],
   "source": [
    "df_data_air.info()"
   ]
  },
  {
   "cell_type": "code",
   "execution_count": 26,
   "metadata": {
    "id": "jWyWsQbGXveO",
    "outputId": "00544e9d-a7bc-43a6-fbc3-438a52f9b96f"
   },
   "outputs": [
    {
     "data": {
      "text/plain": [
       "True"
      ]
     },
     "execution_count": 26,
     "metadata": {},
     "output_type": "execute_result"
    }
   ],
   "source": [
    "df_data_air.isna().values.any()"
   ]
  },
  {
   "cell_type": "markdown",
   "metadata": {
    "id": "fsEgMEPnXveO"
   },
   "source": [
    "### Cleaning Data"
   ]
  },
  {
   "cell_type": "code",
   "execution_count": 27,
   "metadata": {
    "id": "a8YPm8_IXveP"
   },
   "outputs": [],
   "source": [
    "df_data_air.dropna(subset = ['CO','TEMP', 'year','PM2.5'], axis=0, inplace=True)"
   ]
  },
  {
   "cell_type": "code",
   "execution_count": 28,
   "metadata": {
    "id": "hUr4sleQXveP",
    "outputId": "35c675b2-6601-4b63-b0e9-b7a657221ec9"
   },
   "outputs": [
    {
     "name": "stdout",
     "output_type": "stream",
     "text": [
      "<class 'pandas.core.frame.DataFrame'>\n",
      "Index: 33170 entries, 0 to 35063\n",
      "Data columns (total 18 columns):\n",
      " #   Column   Non-Null Count  Dtype  \n",
      "---  ------   --------------  -----  \n",
      " 0   No       33170 non-null  int64  \n",
      " 1   year     33170 non-null  int64  \n",
      " 2   month    33170 non-null  int64  \n",
      " 3   day      33170 non-null  int64  \n",
      " 4   hour     33170 non-null  int64  \n",
      " 5   PM2.5    33170 non-null  float64\n",
      " 6   PM10     33158 non-null  float64\n",
      " 7   SO2      33054 non-null  float64\n",
      " 8   NO2      32986 non-null  float64\n",
      " 9   CO       33170 non-null  float64\n",
      " 10  O3       33081 non-null  float64\n",
      " 11  TEMP     33170 non-null  float64\n",
      " 12  PRES     33170 non-null  float64\n",
      " 13  DEWP     33170 non-null  float64\n",
      " 14  RAIN     33169 non-null  float64\n",
      " 15  wd       33077 non-null  object \n",
      " 16  WSPM     33170 non-null  float64\n",
      " 17  station  33170 non-null  object \n",
      "dtypes: float64(11), int64(5), object(2)\n",
      "memory usage: 4.8+ MB\n"
     ]
    }
   ],
   "source": [
    "df_data_air.isna().values.any()\n",
    "df_data_air.info()\n"
   ]
  },
  {
   "cell_type": "code",
   "execution_count": 29,
   "metadata": {
    "id": "Umo4T0ojXveP"
   },
   "outputs": [],
   "source": [
    "df_data_air.reset_index(drop=True, inplace=True)"
   ]
  },
  {
   "cell_type": "markdown",
   "metadata": {
    "id": "Wgf2xcSBXveQ"
   },
   "source": [
    "## Exploratory Data Analysis (EDA)"
   ]
  },
  {
   "cell_type": "markdown",
   "metadata": {
    "id": "X3n95mvfXveQ"
   },
   "source": [
    "### Explore ..."
   ]
  },
  {
   "cell_type": "code",
   "execution_count": 30,
   "metadata": {
    "id": "mixtZzRPXveQ",
    "outputId": "a40846af-2abe-4bda-c874-450f8eda0bfe"
   },
   "outputs": [
    {
     "data": {
      "text/plain": [
       "(33170, 18)"
      ]
     },
     "execution_count": 30,
     "metadata": {},
     "output_type": "execute_result"
    }
   ],
   "source": [
    "df_data_air.shape"
   ]
  },
  {
   "cell_type": "code",
   "execution_count": 31,
   "metadata": {
    "id": "OAXRyypWXveR",
    "outputId": "83473018-b88b-48a2-eca6-64ac1e0426da"
   },
   "outputs": [
    {
     "name": "stdout",
     "output_type": "stream",
     "text": [
      "<class 'pandas.core.frame.DataFrame'>\n",
      "RangeIndex: 33170 entries, 0 to 33169\n",
      "Data columns (total 18 columns):\n",
      " #   Column   Non-Null Count  Dtype  \n",
      "---  ------   --------------  -----  \n",
      " 0   No       33170 non-null  int64  \n",
      " 1   year     33170 non-null  int64  \n",
      " 2   month    33170 non-null  int64  \n",
      " 3   day      33170 non-null  int64  \n",
      " 4   hour     33170 non-null  int64  \n",
      " 5   PM2.5    33170 non-null  float64\n",
      " 6   PM10     33158 non-null  float64\n",
      " 7   SO2      33054 non-null  float64\n",
      " 8   NO2      32986 non-null  float64\n",
      " 9   CO       33170 non-null  float64\n",
      " 10  O3       33081 non-null  float64\n",
      " 11  TEMP     33170 non-null  float64\n",
      " 12  PRES     33170 non-null  float64\n",
      " 13  DEWP     33170 non-null  float64\n",
      " 14  RAIN     33169 non-null  float64\n",
      " 15  wd       33077 non-null  object \n",
      " 16  WSPM     33170 non-null  float64\n",
      " 17  station  33170 non-null  object \n",
      "dtypes: float64(11), int64(5), object(2)\n",
      "memory usage: 4.6+ MB\n"
     ]
    }
   ],
   "source": [
    "df_data_air.info()"
   ]
  },
  {
   "cell_type": "code",
   "execution_count": 32,
   "metadata": {
    "id": "m2hCtyhdXveS",
    "outputId": "c2479709-9d50-4396-e9a2-a85f9d1a3764"
   },
   "outputs": [
    {
     "data": {
      "text/plain": [
       "No         33170\n",
       "year           5\n",
       "month         12\n",
       "day           31\n",
       "hour          24\n",
       "PM2.5        468\n",
       "PM10         550\n",
       "SO2          188\n",
       "NO2          210\n",
       "CO           115\n",
       "O3           617\n",
       "TEMP         993\n",
       "PRES         592\n",
       "DEWP         602\n",
       "RAIN         114\n",
       "wd            16\n",
       "WSPM          94\n",
       "station        1\n",
       "dtype: int64"
      ]
     },
     "execution_count": 32,
     "metadata": {},
     "output_type": "execute_result"
    }
   ],
   "source": [
    "df_data_air.nunique()"
   ]
  },
  {
   "cell_type": "markdown",
   "metadata": {
    "id": "-FeHpNvTXveS"
   },
   "source": [
    "## Visualization & Explanatory Analysis"
   ]
  },
  {
   "cell_type": "markdown",
   "metadata": {
    "id": "gyAq5ZA_XveT"
   },
   "source": [
    "MENENTUKAN KUALITAS UDARA DALAM DATASET SETIAP TAHUNYA"
   ]
  },
  {
   "cell_type": "code",
   "execution_count": 33,
   "metadata": {
    "id": "ur9C6JU4XveT",
    "outputId": "4155c763-b86a-4687-ef3c-0000bbaa40cb"
   },
   "outputs": [
    {
     "data": {
      "text/plain": [
       "0        2013\n",
       "1        2013\n",
       "2        2013\n",
       "3        2013\n",
       "4        2013\n",
       "         ... \n",
       "33165    2017\n",
       "33166    2017\n",
       "33167    2017\n",
       "33168    2017\n",
       "33169    2017\n",
       "Name: year, Length: 33170, dtype: int64"
      ]
     },
     "execution_count": 33,
     "metadata": {},
     "output_type": "execute_result"
    }
   ],
   "source": [
    "#mengambil data tahun\n",
    "df_data_air['year']"
   ]
  },
  {
   "cell_type": "code",
   "execution_count": 34,
   "metadata": {
    "id": "Q-XngaoeXveT"
   },
   "outputs": [],
   "source": [
    "#menghitung rata2 Co per tahun\n",
    "average_CO_per_year = df_data_air.groupby('year')['CO'].mean()"
   ]
  },
  {
   "cell_type": "code",
   "execution_count": 35,
   "metadata": {
    "id": "5akTj9hZXveU",
    "outputId": "fe217a00-4601-42b9-bb93-2dc2ca429eaa"
   },
   "outputs": [
    {
     "data": {
      "text/plain": [
       "<BarContainer object of 5 artists>"
      ]
     },
     "execution_count": 35,
     "metadata": {},
     "output_type": "execute_result"
    },
    {
     "data": {
      "image/png": "[encoded data removed]",
      "text/plain": [
       "<Figure size 600x400 with 1 Axes>"
      ]
     },
     "metadata": {},
     "output_type": "display_data"
    }
   ],
   "source": [
    "#membuat bar chart\n",
    "fig, ax = plt.subplots(figsize=(6, 4))\n",
    "ax.bar(average_CO_per_year.index, average_CO_per_year)"
   ]
  },
  {
   "cell_type": "markdown",
   "metadata": {
    "id": "4bpgytnUXveU"
   },
   "source": [
    "### Pertanyaan 2:"
   ]
  },
  {
   "cell_type": "markdown",
   "metadata": {
    "id": "XtkGTbKuhi0B"
   },
   "source": [
    "Berapa rata-rata suhu pada daerah tersebut"
   ]
  },
  {
   "cell_type": "code",
   "execution_count": 36,
   "metadata": {
    "id": "n0n3Y3AhXveU",
    "outputId": "1c37cb3f-5160-4409-cb48-81d1c6dc9e5d"
   },
   "outputs": [
    {
     "data": {
      "text/plain": [
       "0        -2.3\n",
       "1        -2.5\n",
       "2        -3.0\n",
       "3        -3.6\n",
       "4        -3.5\n",
       "         ... \n",
       "33165    11.7\n",
       "33166    10.9\n",
       "33167     9.5\n",
       "33168     7.8\n",
       "33169     7.0\n",
       "Name: TEMP, Length: 33170, dtype: float64"
      ]
     },
     "execution_count": 36,
     "metadata": {},
     "output_type": "execute_result"
    }
   ],
   "source": [
    "#mengambil data\n",
    "df_data_air['TEMP']"
   ]
  },
  {
   "cell_type": "code",
   "execution_count": 37,
   "metadata": {
    "id": "WeYsLsTxXveU"
   },
   "outputs": [],
   "source": [
    "#menghitung rata2 TEMP per tahun\n",
    "average_TEMP_per_year = df_data_air.groupby('year')['TEMP'].mean()\n",
    "average_TEMP_per_year_reversed = average_TEMP_per_year.sort_index(ascending=False)\n"
   ]
  },
  {
   "cell_type": "code",
   "execution_count": 38,
   "metadata": {
    "id": "w5AwM_NGXveV",
    "outputId": "fb1f6224-c57f-49b5-cc6a-cc27e868248d"
   },
   "outputs": [
    {
     "data": {
      "image/png": "[encoded data removed]",
      "text/plain": [
       "<Figure size 800x600 with 1 Axes>"
      ]
     },
     "metadata": {},
     "output_type": "display_data"
    }
   ],
   "source": [
    "# Membuat line chart\n",
    "fig, ax = plt.subplots(figsize=(8, 6))\n",
    "\n",
    "# Plot line chart dari data rata-rata suhu per tahun yang telah dibalik\n",
    "ax.plot(average_TEMP_per_year_reversed.index, average_TEMP_per_year_reversed, marker='o')\n",
    "\n",
    "# Memberikan judul dan label sumbu\n",
    "ax.set_title('Rata-rata Suhu per Tahun')\n",
    "ax.set_xlabel('Tahun')\n",
    "ax.set_ylabel('Rata-rata Suhu')\n",
    "\n",
    "# Menyusun formatter untuk sumbu x agar menampilkan tahun tanpa koma\n",
    "ax.xaxis.set_major_formatter(plt.FuncFormatter(lambda x, _: '{:.0f}'.format(x)))\n",
    "\n",
    "# Tampilkan plot\n",
    "plt.show()"
   ]
  },
  {
   "cell_type": "markdown",
   "metadata": {
    "id": "53fnFCuJXveV"
   },
   "source": [
    "POLUSI UDARA PERTAHUN"
   ]
  },
  {
   "cell_type": "code",
   "execution_count": 39,
   "metadata": {
    "id": "dOjqrWb2XveV",
    "outputId": "d72aba8b-3a33-4ed2-a410-b89ae0e99df5",
    "scrolled": true
   },
   "outputs": [
    {
     "data": {
      "text/plain": [
       "0         3.0\n",
       "1         3.0\n",
       "2         3.0\n",
       "3         3.0\n",
       "4         3.0\n",
       "         ... \n",
       "33165    28.0\n",
       "33166    12.0\n",
       "33167     7.0\n",
       "33168    11.0\n",
       "33169    20.0\n",
       "Name: PM2.5, Length: 33170, dtype: float64"
      ]
     },
     "execution_count": 39,
     "metadata": {},
     "output_type": "execute_result"
    }
   ],
   "source": [
    "#mengambil data\n",
    "df_data_air['PM2.5']"
   ]
  },
  {
   "cell_type": "code",
   "execution_count": 40,
   "metadata": {
    "id": "Msnbolq4XveW",
    "outputId": "301d1a8c-58cb-47f8-e1a1-b09050746e23"
   },
   "outputs": [
    {
     "data": {
      "text/plain": [
       "year\n",
       "2017    79.791455\n",
       "2016    61.144153\n",
       "2015    69.490601\n",
       "2014    79.317715\n",
       "2013    70.525651\n",
       "Name: PM2.5, dtype: float64"
      ]
     },
     "execution_count": 40,
     "metadata": {},
     "output_type": "execute_result"
    }
   ],
   "source": [
    "df_PM25_mean= df_data_air.groupby('year')['PM2.5'].mean()\n",
    "average_Pm25_per_year_reversed = df_PM25_mean.sort_index(ascending=False)\n",
    "average_Pm25_per_year_reversed"
   ]
  },
  {
   "cell_type": "code",
   "execution_count": 41,
   "metadata": {
    "id": "XTw6Mqp0XveW",
    "outputId": "efb36902-8a4f-4792-c490-8cd616c641ab"
   },
   "outputs": [
    {
     "data": {
      "image/png": "[encoded data removed]",
      "text/plain": [
       "<Figure size 800x600 with 1 Axes>"
      ]
     },
     "metadata": {},
     "output_type": "display_data"
    }
   ],
   "source": [
    "# Membuat line chart\n",
    "fig, ax = plt.subplots(figsize=(8, 6))\n",
    "\n",
    "# Plot line chart dari data rata-rata polusi per tahun\n",
    "ax.plot(average_Pm25_per_year_reversed.index, df_PM25_mean, marker='o',color='red')\n",
    "\n",
    "# Memberikan judul dan label sumbu\n",
    "ax.set_title('Rata-rata Polusi Per Tahun')\n",
    "ax.set_xlabel('Tahun')\n",
    "ax.set_ylabel('Rata-rata Polusi')\n",
    "\n",
    "# Menyusun formatter untuk sumbu x agar menampilkan tahun tanpa koma\n",
    "ax.xaxis.set_major_formatter(plt.FuncFormatter(lambda x, _: '{:.0f}'.format(x)))\n",
    "\n",
    "# Menambahkan grid\n",
    "plt.grid(True)\n",
    "\n",
    "# Tampilkan plot\n",
    "plt.show()"
   ]
  },
  {
   "cell_type": "markdown",
   "metadata": {
    "id": "ULltEL3KXveX"
   },
   "source": [
    "Bagaimana tingkat polutan udara, seperti PM2.5 dan SO2, berfluktuasi selama periode waktu tertentu di suatu wilayah - 10122343 indra permana"
   ]
  },
  {
   "cell_type": "code",
   "execution_count": 42,
   "metadata": {
    "id": "cxj12N60XveX"
   },
   "outputs": [],
   "source": [
    "nama_file_csv = 'PRSA_Data_Changping_20130301-20170228.csv'\n",
    "dataframe_csv = pd.read_csv(nama_file_csv)"
   ]
  },
  {
   "cell_type": "code",
   "execution_count": 43,
   "metadata": {
    "id": "NybsP6UPXveq",
    "outputId": "3f85b512-e762-4c99-b434-3b4ad921cdc0"
   },
   "outputs": [
    {
     "name": "stdout",
     "output_type": "stream",
     "text": [
      "\n",
      "Data dari file CSV :\n",
      "   No  year  month  day  hour  PM2.5  PM10   SO2   NO2     CO    O3  TEMP  \\\n",
      "0   1  2013      3    1     0    3.0   6.0  13.0   7.0  300.0  85.0  -2.3   \n",
      "1   2  2013      3    1     1    3.0   3.0   6.0   6.0  300.0  85.0  -2.5   \n",
      "2   3  2013      3    1     2    3.0   3.0  22.0  13.0  400.0  74.0  -3.0   \n",
      "3   4  2013      3    1     3    3.0   6.0  12.0   8.0  300.0  81.0  -3.6   \n",
      "4   5  2013      3    1     4    3.0   3.0  14.0   8.0  300.0  81.0  -3.5   \n",
      "\n",
      "     PRES  DEWP  RAIN   wd  WSPM    station  \n",
      "0  1020.8 -19.7   0.0    E   0.5  Changping  \n",
      "1  1021.3 -19.0   0.0  ENE   0.7  Changping  \n",
      "2  1021.3 -19.9   0.0  ENE   0.2  Changping  \n",
      "3  1021.8 -19.1   0.0  NNE   1.0  Changping  \n",
      "4  1022.3 -19.4   0.0    N   2.1  Changping  \n",
      "\n",
      "Statistik Deskriptif\n",
      "                 No          year         month           day          hour  \\\n",
      "count  35064.000000  35064.000000  35064.000000  35064.000000  35064.000000   \n",
      "mean   17532.500000   2014.662560      6.522930     15.729637     11.500000   \n",
      "std    10122.249256      1.177213      3.448752      8.800218      6.922285   \n",
      "min        1.000000   2013.000000      1.000000      1.000000      0.000000   \n",
      "25%     8766.750000   2014.000000      4.000000      8.000000      5.750000   \n",
      "50%    17532.500000   2015.000000      7.000000     16.000000     11.500000   \n",
      "75%    26298.250000   2016.000000     10.000000     23.000000     17.250000   \n",
      "max    35064.000000   2017.000000     12.000000     31.000000     23.000000   \n",
      "\n",
      "              PM2.5          PM10           SO2           NO2            CO  \\\n",
      "count  34290.000000  34482.000000  34436.000000  34397.000000  33543.000000   \n",
      "mean      71.099743     94.657871     14.958906     44.182086   1152.301345   \n",
      "std       72.326926     83.441738     20.975331     29.519796   1103.056282   \n",
      "min        2.000000      2.000000      0.285600      1.847700    100.000000   \n",
      "25%       18.000000     34.000000      2.000000     22.000000    500.000000   \n",
      "50%       46.000000     72.000000      7.000000     36.000000    800.000000   \n",
      "75%      100.000000    131.000000     18.000000     60.358200   1400.000000   \n",
      "max      882.000000    999.000000    310.000000    226.000000  10000.000000   \n",
      "\n",
      "                 O3          TEMP          PRES          DEWP          RAIN  \\\n",
      "count  34460.000000  35011.000000  35014.000000  35011.000000  35013.000000   \n",
      "mean      57.940003     13.686111   1007.760278      1.505495      0.060366   \n",
      "std       54.316674     11.365313     10.225664     13.822099      0.752899   \n",
      "min        0.214200    -16.600000    982.400000    -35.100000      0.000000   \n",
      "25%       15.636600      3.400000    999.300000    -10.200000      0.000000   \n",
      "50%       46.000000     14.700000   1007.400000      1.800000      0.000000   \n",
      "75%       80.000000     23.300000   1016.000000     14.200000      0.000000   \n",
      "max      429.000000     41.400000   1036.500000     27.200000     52.100000   \n",
      "\n",
      "               WSPM  \n",
      "count  35021.000000  \n",
      "mean       1.853836  \n",
      "std        1.309808  \n",
      "min        0.000000  \n",
      "25%        1.000000  \n",
      "50%        1.500000  \n",
      "75%        2.300000  \n",
      "max       10.000000  \n"
     ]
    }
   ],
   "source": [
    "#Menampilkan beberapa baris pertama dari dataset\n",
    "print(\"\\nData dari file CSV :\")\n",
    "print(dataframe_csv.head())\n",
    "\n",
    "#Statistik Deskriptif untuk kolom-kolom numerik\n",
    "print(\"\\nStatistik Deskriptif\")\n",
    "print(dataframe_csv.describe())"
   ]
  },
  {
   "cell_type": "code",
   "execution_count": 44,
   "metadata": {
    "id": "K5IryF7xXveq",
    "outputId": "ad038705-f60b-41a4-c8a8-2bfe87c629d0"
   },
   "outputs": [
    {
     "data": {
      "image/png": "[encoded data removed]",
      "text/plain": [
       "<Figure size 1400x800 with 2 Axes>"
      ]
     },
     "metadata": {},
     "output_type": "display_data"
    }
   ],
   "source": [
    "#Plot Data Kualitas udara dari file csv\n",
    "plt.figure(figsize=(14, 8))\n",
    "\n",
    "plt.subplot(2, 1, 1) #plot PM2.5\n",
    "plt.plot(dataframe_csv['hour'], dataframe_csv['PM2.5'], label='PM2.5', color = 'blue')\n",
    "plt.title('Fluktuasi Tingkat PM2.5')\n",
    "plt.xlabel('Jam')\n",
    "plt.ylabel('Tingkat PM2.5')\n",
    "plt.legend()\n",
    "\n",
    "\n",
    "plt.subplot(2, 1, 2) #plot SO2\n",
    "plt.plot(dataframe_csv['hour'], dataframe_csv['SO2'], label='SO2', color='red')\n",
    "plt.title('Fluktuasi Tingkat SO2')\n",
    "plt.xlabel('Jam')\n",
    "plt.ylabel('Tingkat SO2')\n",
    "plt.legend()\n",
    "\n",
    "plt.tight_layout()\n",
    "plt.show()"
   ]
  },
  {
   "cell_type": "markdown",
   "metadata": {
    "id": "wIDu2W7VXver"
   },
   "source": [
    "Bagaimana tingkat ozon disetiap bulan pada tahun 2013 di wilayah ini? - 10122327- Danarusmia"
   ]
  },
  {
   "cell_type": "code",
   "execution_count": 53,
   "metadata": {
    "colab": {
     "base_uri": "https://localhost:8080/",
     "height": 423
    },
    "id": "iYwkLuFLXver",
    "outputId": "582efaee-b77a-48a3-eb5b-bd5a12848435"
   },
   "outputs": [
    {
     "data": {
      "text/html": [
       "<div>\n",
       "<style scoped>\n",
       "    .dataframe tbody tr th:only-of-type {\n",
       "        vertical-align: middle;\n",
       "    }\n",
       "\n",
       "    .dataframe tbody tr th {\n",
       "        vertical-align: top;\n",
       "    }\n",
       "\n",
       "    .dataframe thead th {\n",
       "        text-align: right;\n",
       "    }\n",
       "</style>\n",
       "<table border=\"1\" class=\"dataframe\">\n",
       "  <thead>\n",
       "    <tr style=\"text-align: right;\">\n",
       "      <th></th>\n",
       "      <th>No</th>\n",
       "      <th>year</th>\n",
       "      <th>month</th>\n",
       "      <th>day</th>\n",
       "      <th>hour</th>\n",
       "      <th>PM2.5</th>\n",
       "      <th>PM10</th>\n",
       "      <th>SO2</th>\n",
       "      <th>NO2</th>\n",
       "      <th>CO</th>\n",
       "      <th>O3</th>\n",
       "      <th>TEMP</th>\n",
       "      <th>PRES</th>\n",
       "      <th>DEWP</th>\n",
       "      <th>RAIN</th>\n",
       "      <th>wd</th>\n",
       "      <th>WSPM</th>\n",
       "      <th>station</th>\n",
       "    </tr>\n",
       "  </thead>\n",
       "  <tbody>\n",
       "    <tr>\n",
       "      <th>0</th>\n",
       "      <td>1</td>\n",
       "      <td>2013</td>\n",
       "      <td>3</td>\n",
       "      <td>1</td>\n",
       "      <td>0</td>\n",
       "      <td>3.0</td>\n",
       "      <td>6.0</td>\n",
       "      <td>13.0</td>\n",
       "      <td>7.0</td>\n",
       "      <td>300.0</td>\n",
       "      <td>85.0</td>\n",
       "      <td>-2.3</td>\n",
       "      <td>1020.8</td>\n",
       "      <td>-19.7</td>\n",
       "      <td>0.0</td>\n",
       "      <td>E</td>\n",
       "      <td>0.5</td>\n",
       "      <td>Changping</td>\n",
       "    </tr>\n",
       "    <tr>\n",
       "      <th>1</th>\n",
       "      <td>2</td>\n",
       "      <td>2013</td>\n",
       "      <td>3</td>\n",
       "      <td>1</td>\n",
       "      <td>1</td>\n",
       "      <td>3.0</td>\n",
       "      <td>3.0</td>\n",
       "      <td>6.0</td>\n",
       "      <td>6.0</td>\n",
       "      <td>300.0</td>\n",
       "      <td>85.0</td>\n",
       "      <td>-2.5</td>\n",
       "      <td>1021.3</td>\n",
       "      <td>-19.0</td>\n",
       "      <td>0.0</td>\n",
       "      <td>ENE</td>\n",
       "      <td>0.7</td>\n",
       "      <td>Changping</td>\n",
       "    </tr>\n",
       "    <tr>\n",
       "      <th>2</th>\n",
       "      <td>3</td>\n",
       "      <td>2013</td>\n",
       "      <td>3</td>\n",
       "      <td>1</td>\n",
       "      <td>2</td>\n",
       "      <td>3.0</td>\n",
       "      <td>3.0</td>\n",
       "      <td>22.0</td>\n",
       "      <td>13.0</td>\n",
       "      <td>400.0</td>\n",
       "      <td>74.0</td>\n",
       "      <td>-3.0</td>\n",
       "      <td>1021.3</td>\n",
       "      <td>-19.9</td>\n",
       "      <td>0.0</td>\n",
       "      <td>ENE</td>\n",
       "      <td>0.2</td>\n",
       "      <td>Changping</td>\n",
       "    </tr>\n",
       "    <tr>\n",
       "      <th>3</th>\n",
       "      <td>4</td>\n",
       "      <td>2013</td>\n",
       "      <td>3</td>\n",
       "      <td>1</td>\n",
       "      <td>3</td>\n",
       "      <td>3.0</td>\n",
       "      <td>6.0</td>\n",
       "      <td>12.0</td>\n",
       "      <td>8.0</td>\n",
       "      <td>300.0</td>\n",
       "      <td>81.0</td>\n",
       "      <td>-3.6</td>\n",
       "      <td>1021.8</td>\n",
       "      <td>-19.1</td>\n",
       "      <td>0.0</td>\n",
       "      <td>NNE</td>\n",
       "      <td>1.0</td>\n",
       "      <td>Changping</td>\n",
       "    </tr>\n",
       "    <tr>\n",
       "      <th>4</th>\n",
       "      <td>5</td>\n",
       "      <td>2013</td>\n",
       "      <td>3</td>\n",
       "      <td>1</td>\n",
       "      <td>4</td>\n",
       "      <td>3.0</td>\n",
       "      <td>3.0</td>\n",
       "      <td>14.0</td>\n",
       "      <td>8.0</td>\n",
       "      <td>300.0</td>\n",
       "      <td>81.0</td>\n",
       "      <td>-3.5</td>\n",
       "      <td>1022.3</td>\n",
       "      <td>-19.4</td>\n",
       "      <td>0.0</td>\n",
       "      <td>N</td>\n",
       "      <td>2.1</td>\n",
       "      <td>Changping</td>\n",
       "    </tr>\n",
       "    <tr>\n",
       "      <th>...</th>\n",
       "      <td>...</td>\n",
       "      <td>...</td>\n",
       "      <td>...</td>\n",
       "      <td>...</td>\n",
       "      <td>...</td>\n",
       "      <td>...</td>\n",
       "      <td>...</td>\n",
       "      <td>...</td>\n",
       "      <td>...</td>\n",
       "      <td>...</td>\n",
       "      <td>...</td>\n",
       "      <td>...</td>\n",
       "      <td>...</td>\n",
       "      <td>...</td>\n",
       "      <td>...</td>\n",
       "      <td>...</td>\n",
       "      <td>...</td>\n",
       "      <td>...</td>\n",
       "    </tr>\n",
       "    <tr>\n",
       "      <th>35059</th>\n",
       "      <td>35060</td>\n",
       "      <td>2017</td>\n",
       "      <td>2</td>\n",
       "      <td>28</td>\n",
       "      <td>19</td>\n",
       "      <td>28.0</td>\n",
       "      <td>47.0</td>\n",
       "      <td>4.0</td>\n",
       "      <td>14.0</td>\n",
       "      <td>300.0</td>\n",
       "      <td>NaN</td>\n",
       "      <td>11.7</td>\n",
       "      <td>1008.9</td>\n",
       "      <td>-13.3</td>\n",
       "      <td>0.0</td>\n",
       "      <td>NNE</td>\n",
       "      <td>1.3</td>\n",
       "      <td>Changping</td>\n",
       "    </tr>\n",
       "    <tr>\n",
       "      <th>35060</th>\n",
       "      <td>35061</td>\n",
       "      <td>2017</td>\n",
       "      <td>2</td>\n",
       "      <td>28</td>\n",
       "      <td>20</td>\n",
       "      <td>12.0</td>\n",
       "      <td>12.0</td>\n",
       "      <td>3.0</td>\n",
       "      <td>23.0</td>\n",
       "      <td>500.0</td>\n",
       "      <td>64.0</td>\n",
       "      <td>10.9</td>\n",
       "      <td>1009.0</td>\n",
       "      <td>-14.0</td>\n",
       "      <td>0.0</td>\n",
       "      <td>N</td>\n",
       "      <td>2.1</td>\n",
       "      <td>Changping</td>\n",
       "    </tr>\n",
       "    <tr>\n",
       "      <th>35061</th>\n",
       "      <td>35062</td>\n",
       "      <td>2017</td>\n",
       "      <td>2</td>\n",
       "      <td>28</td>\n",
       "      <td>21</td>\n",
       "      <td>7.0</td>\n",
       "      <td>23.0</td>\n",
       "      <td>5.0</td>\n",
       "      <td>17.0</td>\n",
       "      <td>500.0</td>\n",
       "      <td>68.0</td>\n",
       "      <td>9.5</td>\n",
       "      <td>1009.4</td>\n",
       "      <td>-13.0</td>\n",
       "      <td>0.0</td>\n",
       "      <td>N</td>\n",
       "      <td>1.5</td>\n",
       "      <td>Changping</td>\n",
       "    </tr>\n",
       "    <tr>\n",
       "      <th>35062</th>\n",
       "      <td>35063</td>\n",
       "      <td>2017</td>\n",
       "      <td>2</td>\n",
       "      <td>28</td>\n",
       "      <td>22</td>\n",
       "      <td>11.0</td>\n",
       "      <td>20.0</td>\n",
       "      <td>3.0</td>\n",
       "      <td>15.0</td>\n",
       "      <td>500.0</td>\n",
       "      <td>72.0</td>\n",
       "      <td>7.8</td>\n",
       "      <td>1009.6</td>\n",
       "      <td>-12.6</td>\n",
       "      <td>0.0</td>\n",
       "      <td>NW</td>\n",
       "      <td>1.4</td>\n",
       "      <td>Changping</td>\n",
       "    </tr>\n",
       "    <tr>\n",
       "      <th>35063</th>\n",
       "      <td>35064</td>\n",
       "      <td>2017</td>\n",
       "      <td>2</td>\n",
       "      <td>28</td>\n",
       "      <td>23</td>\n",
       "      <td>20.0</td>\n",
       "      <td>25.0</td>\n",
       "      <td>6.0</td>\n",
       "      <td>28.0</td>\n",
       "      <td>900.0</td>\n",
       "      <td>54.0</td>\n",
       "      <td>7.0</td>\n",
       "      <td>1009.4</td>\n",
       "      <td>-12.2</td>\n",
       "      <td>0.0</td>\n",
       "      <td>N</td>\n",
       "      <td>1.9</td>\n",
       "      <td>Changping</td>\n",
       "    </tr>\n",
       "  </tbody>\n",
       "</table>\n",
       "<p>35064 rows × 18 columns</p>\n",
       "</div>"
      ],
      "text/plain": [
       "          No  year  month  day  hour  PM2.5  PM10   SO2   NO2     CO    O3  \\\n",
       "0          1  2013      3    1     0    3.0   6.0  13.0   7.0  300.0  85.0   \n",
       "1          2  2013      3    1     1    3.0   3.0   6.0   6.0  300.0  85.0   \n",
       "2          3  2013      3    1     2    3.0   3.0  22.0  13.0  400.0  74.0   \n",
       "3          4  2013      3    1     3    3.0   6.0  12.0   8.0  300.0  81.0   \n",
       "4          5  2013      3    1     4    3.0   3.0  14.0   8.0  300.0  81.0   \n",
       "...      ...   ...    ...  ...   ...    ...   ...   ...   ...    ...   ...   \n",
       "35059  35060  2017      2   28    19   28.0  47.0   4.0  14.0  300.0   NaN   \n",
       "35060  35061  2017      2   28    20   12.0  12.0   3.0  23.0  500.0  64.0   \n",
       "35061  35062  2017      2   28    21    7.0  23.0   5.0  17.0  500.0  68.0   \n",
       "35062  35063  2017      2   28    22   11.0  20.0   3.0  15.0  500.0  72.0   \n",
       "35063  35064  2017      2   28    23   20.0  25.0   6.0  28.0  900.0  54.0   \n",
       "\n",
       "       TEMP    PRES  DEWP  RAIN   wd  WSPM    station  \n",
       "0      -2.3  1020.8 -19.7   0.0    E   0.5  Changping  \n",
       "1      -2.5  1021.3 -19.0   0.0  ENE   0.7  Changping  \n",
       "2      -3.0  1021.3 -19.9   0.0  ENE   0.2  Changping  \n",
       "3      -3.6  1021.8 -19.1   0.0  NNE   1.0  Changping  \n",
       "4      -3.5  1022.3 -19.4   0.0    N   2.1  Changping  \n",
       "...     ...     ...   ...   ...  ...   ...        ...  \n",
       "35059  11.7  1008.9 -13.3   0.0  NNE   1.3  Changping  \n",
       "35060  10.9  1009.0 -14.0   0.0    N   2.1  Changping  \n",
       "35061   9.5  1009.4 -13.0   0.0    N   1.5  Changping  \n",
       "35062   7.8  1009.6 -12.6   0.0   NW   1.4  Changping  \n",
       "35063   7.0  1009.4 -12.2   0.0    N   1.9  Changping  \n",
       "\n",
       "[35064 rows x 18 columns]"
      ]
     },
     "execution_count": 53,
     "metadata": {},
     "output_type": "execute_result"
    }
   ],
   "source": [
    "df_csv = pd.read_csv('PRSA_Data_Changping_20130301-20170228.csv')\n",
    "df_csv"
   ]
  },
  {
   "cell_type": "code",
   "execution_count": 54,
   "metadata": {
    "colab": {
     "base_uri": "https://localhost:8080/",
     "height": 423
    },
    "id": "Fdzw56cuYnHa",
    "outputId": "9679f171-78f6-4023-a416-ab67b3b9df81"
   },
   "outputs": [
    {
     "data": {
      "text/html": [
       "<div>\n",
       "<style scoped>\n",
       "    .dataframe tbody tr th:only-of-type {\n",
       "        vertical-align: middle;\n",
       "    }\n",
       "\n",
       "    .dataframe tbody tr th {\n",
       "        vertical-align: top;\n",
       "    }\n",
       "\n",
       "    .dataframe thead th {\n",
       "        text-align: right;\n",
       "    }\n",
       "</style>\n",
       "<table border=\"1\" class=\"dataframe\">\n",
       "  <thead>\n",
       "    <tr style=\"text-align: right;\">\n",
       "      <th></th>\n",
       "      <th>No</th>\n",
       "      <th>year</th>\n",
       "      <th>month</th>\n",
       "      <th>day</th>\n",
       "      <th>hour</th>\n",
       "      <th>PM2.5</th>\n",
       "      <th>PM10</th>\n",
       "      <th>SO2</th>\n",
       "      <th>NO2</th>\n",
       "      <th>CO</th>\n",
       "      <th>O3</th>\n",
       "      <th>TEMP</th>\n",
       "      <th>PRES</th>\n",
       "      <th>DEWP</th>\n",
       "      <th>RAIN</th>\n",
       "      <th>wd</th>\n",
       "      <th>WSPM</th>\n",
       "      <th>station</th>\n",
       "    </tr>\n",
       "  </thead>\n",
       "  <tbody>\n",
       "    <tr>\n",
       "      <th>0</th>\n",
       "      <td>1</td>\n",
       "      <td>2013</td>\n",
       "      <td>3</td>\n",
       "      <td>1</td>\n",
       "      <td>0</td>\n",
       "      <td>3.0</td>\n",
       "      <td>6.0</td>\n",
       "      <td>13.0</td>\n",
       "      <td>7.0</td>\n",
       "      <td>300.0</td>\n",
       "      <td>85.0</td>\n",
       "      <td>-2.3</td>\n",
       "      <td>1020.8</td>\n",
       "      <td>-19.7</td>\n",
       "      <td>0.0</td>\n",
       "      <td>E</td>\n",
       "      <td>0.5</td>\n",
       "      <td>Changping</td>\n",
       "    </tr>\n",
       "    <tr>\n",
       "      <th>1</th>\n",
       "      <td>2</td>\n",
       "      <td>2013</td>\n",
       "      <td>3</td>\n",
       "      <td>1</td>\n",
       "      <td>1</td>\n",
       "      <td>3.0</td>\n",
       "      <td>3.0</td>\n",
       "      <td>6.0</td>\n",
       "      <td>6.0</td>\n",
       "      <td>300.0</td>\n",
       "      <td>85.0</td>\n",
       "      <td>-2.5</td>\n",
       "      <td>1021.3</td>\n",
       "      <td>-19.0</td>\n",
       "      <td>0.0</td>\n",
       "      <td>ENE</td>\n",
       "      <td>0.7</td>\n",
       "      <td>Changping</td>\n",
       "    </tr>\n",
       "    <tr>\n",
       "      <th>2</th>\n",
       "      <td>3</td>\n",
       "      <td>2013</td>\n",
       "      <td>3</td>\n",
       "      <td>1</td>\n",
       "      <td>2</td>\n",
       "      <td>3.0</td>\n",
       "      <td>3.0</td>\n",
       "      <td>22.0</td>\n",
       "      <td>13.0</td>\n",
       "      <td>400.0</td>\n",
       "      <td>74.0</td>\n",
       "      <td>-3.0</td>\n",
       "      <td>1021.3</td>\n",
       "      <td>-19.9</td>\n",
       "      <td>0.0</td>\n",
       "      <td>ENE</td>\n",
       "      <td>0.2</td>\n",
       "      <td>Changping</td>\n",
       "    </tr>\n",
       "    <tr>\n",
       "      <th>3</th>\n",
       "      <td>4</td>\n",
       "      <td>2013</td>\n",
       "      <td>3</td>\n",
       "      <td>1</td>\n",
       "      <td>3</td>\n",
       "      <td>3.0</td>\n",
       "      <td>6.0</td>\n",
       "      <td>12.0</td>\n",
       "      <td>8.0</td>\n",
       "      <td>300.0</td>\n",
       "      <td>81.0</td>\n",
       "      <td>-3.6</td>\n",
       "      <td>1021.8</td>\n",
       "      <td>-19.1</td>\n",
       "      <td>0.0</td>\n",
       "      <td>NNE</td>\n",
       "      <td>1.0</td>\n",
       "      <td>Changping</td>\n",
       "    </tr>\n",
       "    <tr>\n",
       "      <th>4</th>\n",
       "      <td>5</td>\n",
       "      <td>2013</td>\n",
       "      <td>3</td>\n",
       "      <td>1</td>\n",
       "      <td>4</td>\n",
       "      <td>3.0</td>\n",
       "      <td>3.0</td>\n",
       "      <td>14.0</td>\n",
       "      <td>8.0</td>\n",
       "      <td>300.0</td>\n",
       "      <td>81.0</td>\n",
       "      <td>-3.5</td>\n",
       "      <td>1022.3</td>\n",
       "      <td>-19.4</td>\n",
       "      <td>0.0</td>\n",
       "      <td>N</td>\n",
       "      <td>2.1</td>\n",
       "      <td>Changping</td>\n",
       "    </tr>\n",
       "    <tr>\n",
       "      <th>...</th>\n",
       "      <td>...</td>\n",
       "      <td>...</td>\n",
       "      <td>...</td>\n",
       "      <td>...</td>\n",
       "      <td>...</td>\n",
       "      <td>...</td>\n",
       "      <td>...</td>\n",
       "      <td>...</td>\n",
       "      <td>...</td>\n",
       "      <td>...</td>\n",
       "      <td>...</td>\n",
       "      <td>...</td>\n",
       "      <td>...</td>\n",
       "      <td>...</td>\n",
       "      <td>...</td>\n",
       "      <td>...</td>\n",
       "      <td>...</td>\n",
       "      <td>...</td>\n",
       "    </tr>\n",
       "    <tr>\n",
       "      <th>7339</th>\n",
       "      <td>7340</td>\n",
       "      <td>2013</td>\n",
       "      <td>12</td>\n",
       "      <td>31</td>\n",
       "      <td>19</td>\n",
       "      <td>19.0</td>\n",
       "      <td>95.0</td>\n",
       "      <td>12.0</td>\n",
       "      <td>23.0</td>\n",
       "      <td>200.0</td>\n",
       "      <td>53.0</td>\n",
       "      <td>6.7</td>\n",
       "      <td>1004.4</td>\n",
       "      <td>-17.4</td>\n",
       "      <td>0.0</td>\n",
       "      <td>W</td>\n",
       "      <td>2.4</td>\n",
       "      <td>Changping</td>\n",
       "    </tr>\n",
       "    <tr>\n",
       "      <th>7340</th>\n",
       "      <td>7341</td>\n",
       "      <td>2013</td>\n",
       "      <td>12</td>\n",
       "      <td>31</td>\n",
       "      <td>20</td>\n",
       "      <td>19.0</td>\n",
       "      <td>95.0</td>\n",
       "      <td>12.0</td>\n",
       "      <td>23.0</td>\n",
       "      <td>400.0</td>\n",
       "      <td>45.0</td>\n",
       "      <td>6.5</td>\n",
       "      <td>1004.5</td>\n",
       "      <td>-16.9</td>\n",
       "      <td>0.0</td>\n",
       "      <td>WNW</td>\n",
       "      <td>1.8</td>\n",
       "      <td>Changping</td>\n",
       "    </tr>\n",
       "    <tr>\n",
       "      <th>7341</th>\n",
       "      <td>7342</td>\n",
       "      <td>2013</td>\n",
       "      <td>12</td>\n",
       "      <td>31</td>\n",
       "      <td>21</td>\n",
       "      <td>20.0</td>\n",
       "      <td>62.0</td>\n",
       "      <td>19.0</td>\n",
       "      <td>35.0</td>\n",
       "      <td>400.0</td>\n",
       "      <td>42.0</td>\n",
       "      <td>7.3</td>\n",
       "      <td>1004.9</td>\n",
       "      <td>-16.2</td>\n",
       "      <td>0.0</td>\n",
       "      <td>W</td>\n",
       "      <td>4.6</td>\n",
       "      <td>Changping</td>\n",
       "    </tr>\n",
       "    <tr>\n",
       "      <th>7342</th>\n",
       "      <td>7343</td>\n",
       "      <td>2013</td>\n",
       "      <td>12</td>\n",
       "      <td>31</td>\n",
       "      <td>22</td>\n",
       "      <td>24.0</td>\n",
       "      <td>94.0</td>\n",
       "      <td>26.0</td>\n",
       "      <td>35.0</td>\n",
       "      <td>500.0</td>\n",
       "      <td>40.0</td>\n",
       "      <td>6.5</td>\n",
       "      <td>1004.9</td>\n",
       "      <td>-16.2</td>\n",
       "      <td>0.0</td>\n",
       "      <td>W</td>\n",
       "      <td>3.2</td>\n",
       "      <td>Changping</td>\n",
       "    </tr>\n",
       "    <tr>\n",
       "      <th>7343</th>\n",
       "      <td>7344</td>\n",
       "      <td>2013</td>\n",
       "      <td>12</td>\n",
       "      <td>31</td>\n",
       "      <td>23</td>\n",
       "      <td>32.0</td>\n",
       "      <td>130.0</td>\n",
       "      <td>26.0</td>\n",
       "      <td>38.0</td>\n",
       "      <td>400.0</td>\n",
       "      <td>34.0</td>\n",
       "      <td>7.2</td>\n",
       "      <td>1003.9</td>\n",
       "      <td>-16.3</td>\n",
       "      <td>0.0</td>\n",
       "      <td>WSW</td>\n",
       "      <td>5.5</td>\n",
       "      <td>Changping</td>\n",
       "    </tr>\n",
       "  </tbody>\n",
       "</table>\n",
       "<p>7344 rows × 18 columns</p>\n",
       "</div>"
      ],
      "text/plain": [
       "        No  year  month  day  hour  PM2.5   PM10   SO2   NO2     CO    O3  \\\n",
       "0        1  2013      3    1     0    3.0    6.0  13.0   7.0  300.0  85.0   \n",
       "1        2  2013      3    1     1    3.0    3.0   6.0   6.0  300.0  85.0   \n",
       "2        3  2013      3    1     2    3.0    3.0  22.0  13.0  400.0  74.0   \n",
       "3        4  2013      3    1     3    3.0    6.0  12.0   8.0  300.0  81.0   \n",
       "4        5  2013      3    1     4    3.0    3.0  14.0   8.0  300.0  81.0   \n",
       "...    ...   ...    ...  ...   ...    ...    ...   ...   ...    ...   ...   \n",
       "7339  7340  2013     12   31    19   19.0   95.0  12.0  23.0  200.0  53.0   \n",
       "7340  7341  2013     12   31    20   19.0   95.0  12.0  23.0  400.0  45.0   \n",
       "7341  7342  2013     12   31    21   20.0   62.0  19.0  35.0  400.0  42.0   \n",
       "7342  7343  2013     12   31    22   24.0   94.0  26.0  35.0  500.0  40.0   \n",
       "7343  7344  2013     12   31    23   32.0  130.0  26.0  38.0  400.0  34.0   \n",
       "\n",
       "      TEMP    PRES  DEWP  RAIN   wd  WSPM    station  \n",
       "0     -2.3  1020.8 -19.7   0.0    E   0.5  Changping  \n",
       "1     -2.5  1021.3 -19.0   0.0  ENE   0.7  Changping  \n",
       "2     -3.0  1021.3 -19.9   0.0  ENE   0.2  Changping  \n",
       "3     -3.6  1021.8 -19.1   0.0  NNE   1.0  Changping  \n",
       "4     -3.5  1022.3 -19.4   0.0    N   2.1  Changping  \n",
       "...    ...     ...   ...   ...  ...   ...        ...  \n",
       "7339   6.7  1004.4 -17.4   0.0    W   2.4  Changping  \n",
       "7340   6.5  1004.5 -16.9   0.0  WNW   1.8  Changping  \n",
       "7341   7.3  1004.9 -16.2   0.0    W   4.6  Changping  \n",
       "7342   6.5  1004.9 -16.2   0.0    W   3.2  Changping  \n",
       "7343   7.2  1003.9 -16.3   0.0  WSW   5.5  Changping  \n",
       "\n",
       "[7344 rows x 18 columns]"
      ]
     },
     "execution_count": 54,
     "metadata": {},
     "output_type": "execute_result"
    }
   ],
   "source": [
    "df2013=df_csv[df_csv['year']==2013]\n",
    "df2013"
   ]
  },
  {
   "cell_type": "code",
   "execution_count": 55,
   "metadata": {
    "colab": {
     "base_uri": "https://localhost:8080/"
    },
    "id": "Y6LhmNV5Zuno",
    "outputId": "1bbefbb5-6909-4ef3-c2f3-97c5a70c401c"
   },
   "outputs": [
    {
     "data": {
      "text/plain": [
       "month\n",
       "3     59.961615\n",
       "4     67.750415\n",
       "5     94.737350\n",
       "6     83.557773\n",
       "7     81.411211\n",
       "8     90.854557\n",
       "9     54.289005\n",
       "10    30.129185\n",
       "11    26.818326\n",
       "12    24.871095\n",
       "Name: O3, dtype: float64"
      ]
     },
     "execution_count": 55,
     "metadata": {},
     "output_type": "execute_result"
    }
   ],
   "source": [
    "average_year_2013 = df2013.groupby('month')['O3'].mean()\n",
    "average_year_2013"
   ]
  },
  {
   "cell_type": "code",
   "execution_count": 56,
   "metadata": {
    "colab": {
     "base_uri": "https://localhost:8080/"
    },
    "id": "jzSdX14Hb9Zd",
    "outputId": "6d2f656e-3f5c-452e-9ad9-19d64cc3ca5d"
   },
   "outputs": [
    {
     "data": {
      "text/plain": [
       "month\n",
       "12    24.871095\n",
       "11    26.818326\n",
       "10    30.129185\n",
       "9     54.289005\n",
       "8     90.854557\n",
       "7     81.411211\n",
       "6     83.557773\n",
       "5     94.737350\n",
       "4     67.750415\n",
       "3     59.961615\n",
       "Name: O3, dtype: float64"
      ]
     },
     "execution_count": 56,
     "metadata": {},
     "output_type": "execute_result"
    }
   ],
   "source": [
    "average_O3_per_year_reversed = average_year_2013.sort_index(ascending=False)\n",
    "average_O3_per_year_reversed"
   ]
  },
  {
   "cell_type": "code",
   "execution_count": 57,
   "metadata": {
    "colab": {
     "base_uri": "https://localhost:8080/",
     "height": 564
    },
    "id": "gzZoZB_Ea9Bm",
    "outputId": "f6431432-6c78-495d-c68f-a5f35f822e5c"
   },
   "outputs": [
    {
     "data": {
      "image/png": "[encoded data removed]",
      "text/plain": [
       "<Figure size 800x600 with 1 Axes>"
      ]
     },
     "metadata": {},
     "output_type": "display_data"
    }
   ],
   "source": [
    "fig, ax = plt.subplots(figsize=(8, 6))\n",
    "\n",
    "\n",
    "ax.plot(average_O3_per_year_reversed.index,average_year_2013, marker='o')\n",
    "\n",
    "\n",
    "ax.set_title('Rata-rata O3 Tahun 2013')\n",
    "ax.set_xlabel('Bulan')\n",
    "ax.set_ylabel('Rata-rata O3')\n",
    "\n",
    "\n",
    "ax.xaxis.set_major_formatter(plt.FuncFormatter(lambda x, _: '{:.0f}'.format(x)))\n",
    "\n",
    "\n",
    "plt.grid(True)\n",
    "\n",
    "\n",
    "plt.show()"
   ]
  },
  {
   "cell_type": "markdown",
   "metadata": {},
   "source": [
    "Berapa rata rata debit hujan Pertahunnya\n",
    "-10122325\n",
    "-Alka Sabil Khubaib\n",
    "\n"
   ]
  },
  {
   "cell_type": "code",
   "execution_count": 58,
   "metadata": {},
   "outputs": [],
   "source": [
    "# Membaca dataset dari file CSV\n",
    "nama_file_csv = 'PRSA_Data_Changping_20130301-20170228.csv'\n",
    "dataframe_csv = pd.read_csv(nama_file_csv)"
   ]
  },
  {
   "cell_type": "code",
   "execution_count": 59,
   "metadata": {},
   "outputs": [
    {
     "name": "stdout",
     "output_type": "stream",
     "text": [
      "          No  year  month  day  hour  PM2.5   PM10   SO2   NO2      CO    O3  \\\n",
      "269      270  2013      3   12     5  126.0  164.0  54.0  84.0  1899.0  42.0   \n",
      "270      271  2013      3   12     6  124.0  168.0  56.0  85.0  1800.0  42.0   \n",
      "271      272  2013      3   12     7  124.0  125.0  17.0  82.0  1800.0  42.0   \n",
      "272      273  2013      3   12     8  100.0  106.0  16.0  81.0  1700.0  42.0   \n",
      "432      433  2013      3   19     0   41.0   59.0  11.0  37.0   800.0  44.0   \n",
      "...      ...   ...    ...  ...   ...    ...    ...   ...   ...     ...   ...   \n",
      "34890  34891  2017      2   21    18   84.0   84.0   7.0  83.0  1100.0   2.0   \n",
      "34891  34892  2017      2   21    19   86.0   86.0   5.0  75.0   100.0   3.0   \n",
      "34892  34893  2017      2   21    20   80.0   80.0   4.0  70.0   100.0   4.0   \n",
      "34893  34894  2017      2   21    21   66.0   66.0   3.0  66.0   900.0   6.0   \n",
      "34894  34895  2017      2   21    22   81.0   81.0   3.0  68.0  1100.0   3.0   \n",
      "\n",
      "       TEMP    PRES  DEWP  RAIN   wd  WSPM    station  \n",
      "269     5.3  1003.2  -0.3   0.2  ESE   1.5  Changping  \n",
      "270     3.4  1003.6   0.8   1.5   NW   0.6  Changping  \n",
      "271     3.1  1004.0   1.3   0.3  NNW   1.2  Changping  \n",
      "272     2.7  1003.8   1.1   0.1  NNE   1.0  Changping  \n",
      "432     0.7  1003.0  -2.0   0.1  ESE   2.2  Changping  \n",
      "...     ...     ...   ...   ...  ...   ...        ...  \n",
      "34890  -2.0  1017.1  -3.7   0.1  ESE   2.5  Changping  \n",
      "34891  -2.2  1017.1  -3.8   0.3  ESE   2.4  Changping  \n",
      "34892  -2.4  1017.0  -3.7   0.5  ESE   2.5  Changping  \n",
      "34893  -2.7  1016.8  -3.8   0.6    E   2.2  Changping  \n",
      "34894  -2.8  1016.5  -3.9   0.2  ESE   1.7  Changping  \n",
      "\n",
      "[1401 rows x 18 columns]\n"
     ]
    }
   ],
   "source": [
    "# Filter data untuk baris dengan hujan (RAIN tidak sama dengan 0)\n",
    "data_hujan = dataframe_csv[dataframe_csv['RAIN'] != 0]\n",
    "\n",
    "# Menampilkan hasil\n",
    "print(data_hujan)"
   ]
  },
  {
   "cell_type": "code",
   "execution_count": 60,
   "metadata": {},
   "outputs": [],
   "source": [
    "# Mengonversi kolom 'year' menjadi tipe datetime\n",
    "dataframe_csv['date'] = pd.to_datetime(dataframe_csv[['year', 'month', 'day', 'hour']])\n"
   ]
  },
  {
   "cell_type": "code",
   "execution_count": 61,
   "metadata": {},
   "outputs": [],
   "source": [
    "# Ekstraksi tahun dari kolom 'date'\n",
    "dataframe_csv['tahun'] = dataframe_csv['date'].dt.year\n"
   ]
  },
  {
   "cell_type": "code",
   "execution_count": 62,
   "metadata": {},
   "outputs": [
    {
     "name": "stdout",
     "output_type": "stream",
     "text": [
      "year\n",
      "2013    0.066068\n",
      "2014    0.037888\n",
      "2015    0.082638\n",
      "2016    0.065330\n",
      "2017    0.001422\n",
      "Name: RAIN, dtype: float64\n"
     ]
    }
   ],
   "source": [
    "debit_rata_rata_pertahun = dataframe_csv.groupby('year')['RAIN'].mean()\n",
    "\n",
    "# Menampilkan hasil\n",
    "print(debit_rata_rata_pertahun)\n",
    "\n"
   ]
  },
  {
   "cell_type": "code",
   "execution_count": 63,
   "metadata": {},
   "outputs": [
    {
     "data": {
      "image/png": "[encoded data removed]",
      "text/plain": [
       "<Figure size 1000x600 with 1 Axes>"
      ]
     },
     "metadata": {},
     "output_type": "display_data"
    }
   ],
   "source": [
    "# Membuat grafik rata rata debit hujan\n",
    "plt.figure(figsize=(10, 6))\n",
    "plt.plot(debit_rata_rata_pertahun.index, debit_rata_rata_pertahun.values, marker='o')\n",
    "plt.title('Rata-rata Debit Hujan Pertahun')\n",
    "plt.xlabel('Tahun')\n",
    "plt.ylabel('Rata-rata Debit Hujan')\n",
    "plt.grid(True)\n",
    "plt.show()"
   ]
  },
  {
   "cell_type": "markdown",
   "metadata": {
    "id": "tGu-VlSGXver"
   },
   "source": [
    "## Kesimpulan"
   ]
  },
  {
   "cell_type": "markdown",
   "metadata": {
    "id": "ck4_U3cfXver"
   },
   "source": [
    "Kesimpulan pertanyaan 1\n",
    "\n",
    "Kita bisa melihat kualitas udara setiap tahunnya berdasarkan grafik diatas. kualitas udarapun sangat penting dalam meningkatkan kesejahteraan etnah itu masyarakat, pelanggan, dan karyawan. menilai kualias udara berdasarkan CO dapat membantu mengidentifikasi dan mengurangi sumber polusi dilingkungan kerja dan data ini pun dapat membantu bisnis untuk menyediakan ventilasi yang baik  dan dapat berkontribusi dalam upaya pelestarian lingkungan dan pengurangan emisi gas rumah kaca.(Taufik)\n",
    "\n"
   ]
  },
  {
   "cell_type": "markdown",
   "metadata": {},
   "source": [
    "Kesimpulan pertanyaan 2\n",
    "\n",
    "Sesuai dengan perhitungan rata” suhu pada daerah changping dari tahun ke tahun  berada di sekitar 11° C"
   ]
  },
  {
   "cell_type": "markdown",
   "metadata": {},
   "source": [
    "Kesimpulan pertanyaan 3\n",
    "\n",
    "berdasarkan grafik pertanyaan nomor 3 dapat disimpulkan bahwa, tingkat polusi udara(pm2.5) pertahun di daerah tersebut rata rata di atas ambang maksimal yang seharusnya di bawah 65, sebagaimana jika di atas 65 maka dikatakan berbahaya bagi tubuh mahluk hidup di daerah tersebut(farrel)\n"
   ]
  },
  {
   "cell_type": "markdown",
   "metadata": {},
   "source": [
    "Kesimpulan pertanyaan 4\n",
    "\n",
    "Tingkat fluktuasi polutan udara, dengan rata-rata PM2.5 mencapai 400 (tertinggi 800 pada jam 4) dan SO2 sekitar 100 (tertinggi 300 pada jam 5), menciptakan kondisi udara yang berpotensi berbahaya.Fluktuasi tingkat polutan tersebut menciptakan kualitas udara yang buruk, yang dapat menyebabkan penurunan kualitas hidup secara keseluruhan. (indra)"
   ]
  },
  {
   "cell_type": "markdown",
   "metadata": {},
   "source": [
    "Kesimpulan pertanyaan 5\n",
    "\n",
    "Berdasarkan grafik di atas, dapat disimpulkan bahwa tingkat ozon(O3) setiap bulan per tahun 2013 tertinggi di changping berada di bulan 10 (danar)\n"
   ]
  },
  {
   "cell_type": "markdown",
   "metadata": {},
   "source": [
    "Kesimpulan pertanyaan 6\n",
    "\n",
    "Berdasarkan grafik yang tertera pada pertanyaan nomor 6 debit hujan pertahun ada perubahan signifikan yang mana pada awal tahun mengalami debit hujan yang lumayan tinggi dan pada pertengahan tahun ada nya penurunan debit hujan yang sangat besar dan pada akhir tahun mengalami kenaikan debit hujan yang tinggi bisa kita simpul kan bahwa akan tidak akan banyak terjadinya banjir pada perusahaan(alka)"
   ]
  },
  {
   "cell_type": "markdown",
   "metadata": {
    "id": "2Ij5jKPkXves"
   },
   "source": []
  }
 ],
 "metadata": {
  "colab": {
   "provenance": []
  },
  "kernelspec": {
   "display_name": "Python 3 (ipykernel)",
   "language": "python",
   "name": "python3"
  },
  "language_info": {
   "codemirror_mode": {
    "name": "ipython",
    "version": 3
   },
   "file_extension": ".py",
   "mimetype": "text/x-python",
   "name": "python",
   "nbconvert_exporter": "python",
   "pygments_lexer": "ipython3",
   "version": "3.12.1"
  },
  "vscode": {
   "interpreter": {
    "hash": "972b3bf27e332e87b5379f2791f6ef9dfc79c71018c370b0d7423235e20fe4d7"
   }
  }
 },
 "nbformat": 4,
 "nbformat_minor": 4
}
